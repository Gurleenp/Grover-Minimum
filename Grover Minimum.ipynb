{
 "cells": [
  {
   "cell_type": "code",
   "execution_count": 2,
   "metadata": {},
   "outputs": [],
   "source": [
    "import numpy as np\n",
    "from qiskit import *\n",
    "from qiskit.circuit import QuantumCircuit\n",
    "from qiskit.circuit.library import GroverOperator\n",
    "import matplotlib\n",
    "import random"
   ]
  },
  {
   "cell_type": "code",
   "execution_count": 35,
   "metadata": {},
   "outputs": [],
   "source": [
    "#nums = unsorted array of numbers\n",
    "def find_min(nums, iters):\n",
    "    N = len(nums)\n",
    "    t = nums[random.randint(0, N-1)] #Choosing a random threshhold value\n",
    "    targets = [i for i in range(N) if nums[i]<=t ] #Marking elements of nums that are <= threshhold\n",
    "    for i in range(iters):\n",
    "        new_t = nums[grover_search(targets, N)] #Grover search to find element smaller than current threshhold\n",
    "        if new_t<t:\n",
    "            t=new_t\n",
    "            targets = [target for target in targets if nums[target]<=t]\n",
    "    return t\n",
    "def grover_search(targets, N):\n",
    "    d = int(np.ceil(np.log2(N)))\n",
    "    oracle = np.identity(2**d)\n",
    "    for target in targets:\n",
    "        oracle[target, target] = -1 #Building oracle\n",
    "    oc = QuantumCircuit(d)\n",
    "    oc.unitary(oracle, range(d))\n",
    "    grover_op = GroverOperator(oc, insert_barriers=True)\n",
    "    qc = QuantumCircuit(d)\n",
    "    qc.h(range(d)) #Initializing equal superposition\n",
    "    r = 1 #Number of Grover iterations\n",
    "    for i in range(r):\n",
    "        qc = qc.compose(grover_op) \n",
    "    qc.measure_all()\n",
    "    backend = Aer.get_backend(\"qasm_simulator\")\n",
    "    qc.decompose().draw()\n",
    "    job = execute(qc, backend)\n",
    "    result = int(list(job.result().get_counts().keys())[0][::-1], 2)\n",
    "    return result"
   ]
  }
 ],
 "metadata": {
  "kernelspec": {
   "display_name": "Python 3 (ipykernel)",
   "language": "python",
   "name": "python3"
  },
  "language_info": {
   "codemirror_mode": {
    "name": "ipython",
    "version": 3
   },
   "file_extension": ".py",
   "mimetype": "text/x-python",
   "name": "python",
   "nbconvert_exporter": "python",
   "pygments_lexer": "ipython3",
   "version": "3.8.12"
  }
 },
 "nbformat": 4,
 "nbformat_minor": 4
}
