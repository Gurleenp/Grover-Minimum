{
 "cells": [
  {
   "cell_type": "code",
   "execution_count": 39,
   "id": "5aee62b1",
   "metadata": {},
   "outputs": [],
   "source": [
    "from qiskit import *\n",
    "import numpy as np"
   ]
  },
  {
   "cell_type": "code",
   "execution_count": 40,
   "id": "93943ad1",
   "metadata": {},
   "outputs": [],
   "source": [
    "def dj_alg(f, N):\n",
    "    #Building unitary f\n",
    "    inputs = list(range(2**(N)))\n",
    "    outputs = f(inputs)\n",
    "    operator = np.zeros((2**(N+1), 2**(N+1)))\n",
    "    for i, j in zip(inputs, outputs):\n",
    "        operator[(2**N)+i, ((((j^1)*2)**N)+i)]=1\n",
    "        operator[i, (((j*2)**N)+i)]=1\n",
    "    qc = QuantumCircuit(N+1, N)\n",
    "    #Building Deutsch Jozsa circuit\n",
    "    qc.x(N)\n",
    "    qc.h(range(N+1))\n",
    "    qc.unitary(operator, range(N+1))\n",
    "    qc.h(range(N))\n",
    "    qc.measure(range(N), range(N))\n",
    "    print(qc)\n",
    "    backend = Aer.get_backend('qasm_simulator')\n",
    "    job = execute(qc, backend=backend, shots=1)\n",
    "    job_result = job.result()\n",
    "    return list(job_result.get_counts())[0]"
   ]
  },
  {
   "cell_type": "code",
   "execution_count": 41,
   "id": "8d1f247c",
   "metadata": {},
   "outputs": [],
   "source": [
    "def bv_prob(a, N): #a = Bernstein Vazirani function paramater as an integer or binary string, N= number of qubits\n",
    "    if type(a)!=str:\n",
    "        a_bin = format(a, '0%sb' %N) #Converting a to binary if necessary\n",
    "    else:\n",
    "        a_bin = a\n",
    "    def bv(x): #Bernstein Vazirani function on list of inputs, x = list of inputs of length 2**N\n",
    "            return [(sum([int(j)*int(k) for (j, k) in zip(list(format(i, '0%sb' %N)), list(a_bin))])%2) for i in x]\n",
    "    return \"a = \" +dj_alg(bv, N) #Running Deutsch Jozsa algorithm"
   ]
  },
  {
   "cell_type": "code",
   "execution_count": 42,
   "id": "c92dd3b8",
   "metadata": {
    "scrolled": true
   },
   "outputs": [
    {
     "name": "stdout",
     "output_type": "stream",
     "text": [
      "     ┌───┐     ┌──────────┐┌───┐┌─┐            \n",
      "q_0: ┤ H ├─────┤0         ├┤ H ├┤M├────────────\n",
      "     ├───┤     │          │├───┤└╥┘┌─┐         \n",
      "q_1: ┤ H ├─────┤1         ├┤ H ├─╫─┤M├─────────\n",
      "     ├───┤     │          │├───┤ ║ └╥┘┌─┐      \n",
      "q_2: ┤ H ├─────┤2         ├┤ H ├─╫──╫─┤M├──────\n",
      "     ├───┤     │  Unitary │├───┤ ║  ║ └╥┘┌─┐   \n",
      "q_3: ┤ H ├─────┤3         ├┤ H ├─╫──╫──╫─┤M├───\n",
      "     ├───┤     │          │├───┤ ║  ║  ║ └╥┘┌─┐\n",
      "q_4: ┤ H ├─────┤4         ├┤ H ├─╫──╫──╫──╫─┤M├\n",
      "     ├───┤┌───┐│          │└───┘ ║  ║  ║  ║ └╥┘\n",
      "q_5: ┤ X ├┤ H ├┤5         ├──────╫──╫──╫──╫──╫─\n",
      "     └───┘└───┘└──────────┘      ║  ║  ║  ║  ║ \n",
      "c: 5/════════════════════════════╩══╩══╩══╩══╩═\n",
      "                                 0  1  2  3  4 \n"
     ]
    },
    {
     "data": {
      "text/plain": [
       "'a = 11101'"
      ]
     },
     "execution_count": 42,
     "metadata": {},
     "output_type": "execute_result"
    }
   ],
   "source": [
    "bv_prob('11101', 5)"
   ]
  },
  {
   "cell_type": "code",
   "execution_count": 43,
   "id": "d10d1444",
   "metadata": {},
   "outputs": [],
   "source": [
    "def dj_prob(a, N): #a=c or b, c=constant, b=balanced, N=number of qubits\n",
    "    def dj(x): #Detusch Jozsa function on list of inputs of length 2**N\n",
    "        if a==\"c\":\n",
    "            return (2**N)*[np.random.choice([0,1])]\n",
    "        else:\n",
    "            temp = (2**(N-1))*[0]+(2**(N-1))*[1]\n",
    "            np.random.shuffle(temp)\n",
    "            return temp\n",
    "    result = dj_alg(dj, N) #Running Deutsch Jozsa algorithm\n",
    "    if int(result, 2)==0: #Interpreting measurement\n",
    "        return \"Constant\"\n",
    "    else:\n",
    "        return \"Balanced\""
   ]
  },
  {
   "cell_type": "code",
   "execution_count": 34,
   "id": "8cca047f",
   "metadata": {},
   "outputs": [
    {
     "name": "stdout",
     "output_type": "stream",
     "text": [
      "     ┌───┐     ┌──────────┐┌───┐┌─┐         \n",
      "q_0: ┤ H ├─────┤0         ├┤ H ├┤M├─────────\n",
      "     ├───┤     │          │├───┤└╥┘┌─┐      \n",
      "q_1: ┤ H ├─────┤1         ├┤ H ├─╫─┤M├──────\n",
      "     ├───┤     │          │├───┤ ║ └╥┘┌─┐   \n",
      "q_2: ┤ H ├─────┤2 Unitary ├┤ H ├─╫──╫─┤M├───\n",
      "     ├───┤     │          │├───┤ ║  ║ └╥┘┌─┐\n",
      "q_3: ┤ H ├─────┤3         ├┤ H ├─╫──╫──╫─┤M├\n",
      "     ├───┤┌───┐│          │└───┘ ║  ║  ║ └╥┘\n",
      "q_4: ┤ X ├┤ H ├┤4         ├──────╫──╫──╫──╫─\n",
      "     └───┘└───┘└──────────┘      ║  ║  ║  ║ \n",
      "c: 4/════════════════════════════╩══╩══╩══╩═\n",
      "                                 0  1  2  3 \n"
     ]
    },
    {
     "data": {
      "text/plain": [
       "'Constant'"
      ]
     },
     "execution_count": 34,
     "metadata": {},
     "output_type": "execute_result"
    }
   ],
   "source": [
    "dj_prob(\"c\", 4)"
   ]
  }
 ],
 "metadata": {
  "kernelspec": {
   "display_name": "Python 3 (ipykernel)",
   "language": "python",
   "name": "python3"
  },
  "language_info": {
   "codemirror_mode": {
    "name": "ipython",
    "version": 3
   },
   "file_extension": ".py",
   "mimetype": "text/x-python",
   "name": "python",
   "nbconvert_exporter": "python",
   "pygments_lexer": "ipython3",
   "version": "3.9.7"
  }
 },
 "nbformat": 4,
 "nbformat_minor": 5
}
